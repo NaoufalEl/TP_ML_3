{
 "cells": [
  {
   "cell_type": "markdown",
   "metadata": {},
   "source": [
    "# TP 3"
   ]
  },
  {
   "cell_type": "markdown",
   "metadata": {},
   "source": [
    "## Importation de librairies"
   ]
  },
  {
   "cell_type": "code",
   "execution_count": null,
   "metadata": {},
   "outputs": [],
   "source": [
    "import pandas as pd\n",
    "import numpy as np\n",
    "import matplotlib.pyplot as plt\n",
    "from sklearn.preprocessing import MinMaxScaler\n",
    "import math as math\n",
    "from keras.models import Sequential\n",
    "from keras.layers import Dense\n",
    "from keras.layers import LSTM, GRU\n",
    "from keras.layers import Dropout\n",
    "from keras.layers import *\n",
    "from sklearn.metrics import mean_squared_error\n",
    "from sklearn.metrics import mean_absolute_error\n",
    "from sklearn.model_selection import train_test_split\n",
    "from sklearn.metrics import r2_score"
   ]
  },
  {
   "cell_type": "code",
   "execution_count": 7,
   "metadata": {},
   "outputs": [],
   "source": [
    "data = pd.read_fwf('SPX.txt', names=['date', 'value'])"
   ]
  },
  {
   "cell_type": "code",
   "execution_count": 8,
   "metadata": {},
   "outputs": [
    {
     "data": {
      "text/plain": [
       "array([[0.        ],\n",
       "       [0.00206228],\n",
       "       [0.00159837],\n",
       "       ...,\n",
       "       [0.98682323],\n",
       "       [0.97501092],\n",
       "       [0.97122942]])"
      ]
     },
     "execution_count": 8,
     "metadata": {},
     "output_type": "execute_result"
    }
   ],
   "source": [
    "X = np.array(data['value'])\n",
    "X = X.reshape((1292, 1))\n",
    "\n",
    "training_data_len = math.ceil(len(X)* 0.75) \n",
    "\n",
    "sc = MinMaxScaler(feature_range=(0,1))\n",
    "training_data = sc.fit_transform(X)\n",
    "training_data"
   ]
  },
  {
   "cell_type": "code",
   "execution_count": 9,
   "metadata": {},
   "outputs": [
    {
     "name": "stdout",
     "output_type": "stream",
     "text": [
      "Number of rows and columns:  (707, 180, 1)\n"
     ]
    }
   ],
   "source": [
    "split_val = 887\n",
    "train_data = training_data[0:split_val  , : ]\n",
    "\n",
    "X_train = []\n",
    "y_train = []\n",
    "for i in range(180, len(train_data)):\n",
    "    X_train.append(train_data[i-180:i, 0])\n",
    "    y_train.append(train_data[i, 0])\n",
    "\n",
    "X_train, y_train = np.array(X_train), np.array(y_train) \n",
    "X_train = np.reshape(X_train, (X_train.shape[0], X_train.shape[1], 1))\n",
    "print('Number of rows and columns: ', X_train.shape)  \n"
   ]
  },
  {
   "cell_type": "code",
   "execution_count": 10,
   "metadata": {
    "scrolled": true
   },
   "outputs": [
    {
     "name": "stdout",
     "output_type": "stream",
     "text": [
      "Number of rows and columns:  (405, 180, 1)\n"
     ]
    }
   ],
   "source": [
    "test_data = training_data[split_val - 180: , : ]\n",
    "\n",
    "X_test = []\n",
    "y_test =  X[split_val : , : ]\n",
    "for i in range(180,len(test_data)):\n",
    "    X_test.append(test_data[i-180:i,0])\n",
    "\n",
    "\n",
    "X_test = np.array(X_test)\n",
    "\n",
    "\n",
    "X_test = np.reshape(X_test, (X_test.shape[0],X_test.shape[1],1))\n",
    "print('Number of rows and columns: ', X_test.shape)\n"
   ]
  },
  {
   "cell_type": "markdown",
   "metadata": {},
   "source": [
    "## Modèle 1"
   ]
  },
  {
   "cell_type": "code",
   "execution_count": 12,
   "metadata": {},
   "outputs": [
    {
     "name": "stdout",
     "output_type": "stream",
     "text": [
      "Epoch 1/100\n",
      "23/23 [==============================] - 37s 705ms/step - loss: 0.0166\n",
      "Epoch 2/100\n",
      "23/23 [==============================] - 15s 631ms/step - loss: 0.0039\n",
      "Epoch 3/100\n",
      "23/23 [==============================] - 15s 643ms/step - loss: 0.0031\n",
      "Epoch 4/100\n",
      "23/23 [==============================] - 15s 663ms/step - loss: 0.0027\n",
      "Epoch 5/100\n",
      "23/23 [==============================] - 15s 639ms/step - loss: 0.0025\n",
      "Epoch 6/100\n",
      "23/23 [==============================] - 15s 647ms/step - loss: 0.0025\n",
      "Epoch 7/100\n",
      "23/23 [==============================] - 16s 677ms/step - loss: 0.0023\n",
      "Epoch 8/100\n",
      "23/23 [==============================] - 15s 641ms/step - loss: 0.0022\n",
      "Epoch 9/100\n",
      "23/23 [==============================] - 14s 628ms/step - loss: 0.0020\n",
      "Epoch 10/100\n",
      "23/23 [==============================] - 14s 628ms/step - loss: 0.0020\n",
      "Epoch 11/100\n",
      "23/23 [==============================] - 15s 656ms/step - loss: 0.0019\n",
      "Epoch 12/100\n",
      "23/23 [==============================] - 15s 668ms/step - loss: 0.0023\n",
      "Epoch 13/100\n",
      "23/23 [==============================] - 15s 666ms/step - loss: 0.0024\n",
      "Epoch 14/100\n",
      "23/23 [==============================] - 16s 681ms/step - loss: 0.0017\n",
      "Epoch 15/100\n",
      "23/23 [==============================] - 15s 656ms/step - loss: 0.0019\n",
      "Epoch 16/100\n",
      "23/23 [==============================] - 15s 643ms/step - loss: 0.0018\n",
      "Epoch 17/100\n",
      "23/23 [==============================] - 15s 635ms/step - loss: 0.0015\n",
      "Epoch 18/100\n",
      "23/23 [==============================] - 16s 678ms/step - loss: 0.0017\n",
      "Epoch 19/100\n",
      "23/23 [==============================] - 15s 663ms/step - loss: 0.0017\n",
      "Epoch 20/100\n",
      "23/23 [==============================] - 15s 641ms/step - loss: 0.0015\n",
      "Epoch 21/100\n",
      "23/23 [==============================] - 15s 675ms/step - loss: 0.0018\n",
      "Epoch 22/100\n",
      "23/23 [==============================] - 16s 677ms/step - loss: 0.0014\n",
      "Epoch 23/100\n",
      "23/23 [==============================] - 15s 662ms/step - loss: 0.0014\n",
      "Epoch 24/100\n",
      "23/23 [==============================] - 15s 642ms/step - loss: 0.0014\n",
      "Epoch 25/100\n",
      "23/23 [==============================] - 15s 637ms/step - loss: 0.0015\n",
      "Epoch 26/100\n",
      "23/23 [==============================] - 15s 637ms/step - loss: 0.0013\n",
      "Epoch 27/100\n",
      "23/23 [==============================] - 15s 638ms/step - loss: 0.0014\n",
      "Epoch 28/100\n",
      "23/23 [==============================] - 15s 667ms/step - loss: 0.0014\n",
      "Epoch 29/100\n",
      "23/23 [==============================] - 15s 640ms/step - loss: 0.0013\n",
      "Epoch 30/100\n",
      "23/23 [==============================] - 16s 697ms/step - loss: 0.0013\n",
      "Epoch 31/100\n",
      "23/23 [==============================] - 15s 637ms/step - loss: 0.0013\n",
      "Epoch 32/100\n",
      "23/23 [==============================] - 15s 631ms/step - loss: 0.0012\n",
      "Epoch 33/100\n",
      "23/23 [==============================] - 16s 683ms/step - loss: 0.0014\n",
      "Epoch 34/100\n",
      "23/23 [==============================] - 16s 672ms/step - loss: 0.0011\n",
      "Epoch 35/100\n",
      "23/23 [==============================] - 16s 683ms/step - loss: 0.0014\n",
      "Epoch 36/100\n",
      "23/23 [==============================] - 15s 639ms/step - loss: 0.0012\n",
      "Epoch 37/100\n",
      "23/23 [==============================] - 14s 631ms/step - loss: 0.0012\n",
      "Epoch 38/100\n",
      "23/23 [==============================] - 15s 652ms/step - loss: 0.0011\n",
      "Epoch 39/100\n",
      "23/23 [==============================] - 15s 660ms/step - loss: 0.0013\n",
      "Epoch 40/100\n",
      "23/23 [==============================] - 15s 662ms/step - loss: 0.0010\n",
      "Epoch 41/100\n",
      "23/23 [==============================] - 15s 639ms/step - loss: 0.0011\n",
      "Epoch 42/100\n",
      "23/23 [==============================] - 15s 640ms/step - loss: 0.0012\n",
      "Epoch 43/100\n",
      "23/23 [==============================] - 15s 636ms/step - loss: 0.0010\n",
      "Epoch 44/100\n",
      "23/23 [==============================] - 15s 638ms/step - loss: 0.0011\n",
      "Epoch 45/100\n",
      "23/23 [==============================] - 15s 632ms/step - loss: 9.8604e-04\n",
      "Epoch 46/100\n",
      "23/23 [==============================] - 15s 642ms/step - loss: 0.0012\n",
      "Epoch 47/100\n",
      "23/23 [==============================] - 15s 635ms/step - loss: 0.0011\n",
      "Epoch 48/100\n",
      "23/23 [==============================] - 15s 642ms/step - loss: 9.3624e-04\n",
      "Epoch 49/100\n",
      "23/23 [==============================] - 15s 634ms/step - loss: 9.3255e-04\n",
      "Epoch 50/100\n",
      "23/23 [==============================] - 15s 651ms/step - loss: 9.6178e-04\n",
      "Epoch 51/100\n",
      "23/23 [==============================] - 15s 660ms/step - loss: 9.6120e-04\n",
      "Epoch 52/100\n",
      "23/23 [==============================] - 15s 643ms/step - loss: 9.5540e-04\n",
      "Epoch 53/100\n",
      "23/23 [==============================] - 15s 648ms/step - loss: 9.5845e-04\n",
      "Epoch 54/100\n",
      "23/23 [==============================] - 15s 649ms/step - loss: 9.8151e-04\n",
      "Epoch 55/100\n",
      "23/23 [==============================] - 14s 630ms/step - loss: 9.5748e-04\n",
      "Epoch 56/100\n",
      "23/23 [==============================] - 15s 650ms/step - loss: 7.6066e-04\n",
      "Epoch 57/100\n",
      "23/23 [==============================] - 15s 637ms/step - loss: 8.5603e-04\n",
      "Epoch 58/100\n",
      "23/23 [==============================] - 15s 642ms/step - loss: 9.5392e-04\n",
      "Epoch 59/100\n",
      "23/23 [==============================] - 18s 786ms/step - loss: 8.5098e-04\n",
      "Epoch 60/100\n",
      "23/23 [==============================] - 15s 632ms/step - loss: 8.5372e-04\n",
      "Epoch 61/100\n",
      "23/23 [==============================] - 15s 633ms/step - loss: 8.0644e-04\n",
      "Epoch 62/100\n",
      "23/23 [==============================] - 15s 647ms/step - loss: 0.0012\n",
      "Epoch 63/100\n",
      "23/23 [==============================] - 15s 659ms/step - loss: 8.6892e-04\n",
      "Epoch 64/100\n",
      "23/23 [==============================] - 15s 661ms/step - loss: 8.0379e-04\n",
      "Epoch 65/100\n",
      "23/23 [==============================] - 15s 671ms/step - loss: 7.9938e-04\n",
      "Epoch 66/100\n",
      "23/23 [==============================] - 16s 681ms/step - loss: 7.6370e-04\n",
      "Epoch 67/100\n",
      "23/23 [==============================] - 15s 675ms/step - loss: 6.9464e-04\n",
      "Epoch 68/100\n",
      "23/23 [==============================] - 7s 268ms/step - loss: 6.7368e-04\n",
      "Epoch 69/100\n",
      "23/23 [==============================] - 5s 221ms/step - loss: 7.6899e-04\n",
      "Epoch 70/100\n",
      "23/23 [==============================] - 5s 233ms/step - loss: 6.9452e-04\n",
      "Epoch 71/100\n",
      "23/23 [==============================] - 6s 280ms/step - loss: 7.0863e-04\n",
      "Epoch 72/100\n",
      "23/23 [==============================] - 7s 310ms/step - loss: 7.1623e-04\n",
      "Epoch 73/100\n",
      "23/23 [==============================] - 6s 274ms/step - loss: 6.7694e-04\n",
      "Epoch 74/100\n",
      "23/23 [==============================] - 6s 275ms/step - loss: 6.7549e-04\n",
      "Epoch 75/100\n",
      "23/23 [==============================] - 6s 271ms/step - loss: 6.5134e-04\n",
      "Epoch 76/100\n",
      "23/23 [==============================] - 6s 282ms/step - loss: 7.0233e-04\n",
      "Epoch 77/100\n",
      "23/23 [==============================] - 6s 267ms/step - loss: 6.5285e-04\n",
      "Epoch 78/100\n",
      "23/23 [==============================] - 6s 269ms/step - loss: 6.5440e-04\n",
      "Epoch 79/100\n",
      "23/23 [==============================] - 7s 292ms/step - loss: 6.1341e-04\n",
      "Epoch 80/100\n",
      "23/23 [==============================] - 6s 279ms/step - loss: 6.4671e-04\n",
      "Epoch 81/100\n",
      "23/23 [==============================] - 7s 294ms/step - loss: 6.6182e-04\n",
      "Epoch 82/100\n",
      "23/23 [==============================] - 6s 279ms/step - loss: 5.9689e-04\n",
      "Epoch 83/100\n",
      "23/23 [==============================] - 6s 278ms/step - loss: 6.1958e-04\n",
      "Epoch 84/100\n",
      "23/23 [==============================] - 6s 279ms/step - loss: 5.7238e-04\n",
      "Epoch 85/100\n",
      "23/23 [==============================] - 6s 280ms/step - loss: 5.6068e-04\n",
      "Epoch 86/100\n",
      "23/23 [==============================] - 7s 291ms/step - loss: 6.6457e-04\n",
      "Epoch 87/100\n",
      "23/23 [==============================] - 7s 283ms/step - loss: 6.0984e-04\n",
      "Epoch 88/100\n",
      "23/23 [==============================] - 7s 297ms/step - loss: 5.5237e-04\n",
      "Epoch 89/100\n",
      "23/23 [==============================] - 7s 288ms/step - loss: 5.5505e-04\n",
      "Epoch 90/100\n",
      "23/23 [==============================] - 7s 289ms/step - loss: 5.4098e-04\n",
      "Epoch 91/100\n",
      "23/23 [==============================] - 7s 300ms/step - loss: 4.6645e-04\n",
      "Epoch 92/100\n",
      "23/23 [==============================] - 7s 302ms/step - loss: 5.5565e-04\n",
      "Epoch 93/100\n",
      "23/23 [==============================] - 7s 306ms/step - loss: 4.8395e-04\n",
      "Epoch 94/100\n",
      "23/23 [==============================] - 7s 293ms/step - loss: 5.1899e-04\n",
      "Epoch 95/100\n",
      "23/23 [==============================] - 7s 299ms/step - loss: 5.0834e-04\n",
      "Epoch 96/100\n"
     ]
    },
    {
     "name": "stdout",
     "output_type": "stream",
     "text": [
      "23/23 [==============================] - 7s 293ms/step - loss: 5.8371e-04\n",
      "Epoch 97/100\n",
      "23/23 [==============================] - 7s 287ms/step - loss: 4.7728e-04\n",
      "Epoch 98/100\n",
      "23/23 [==============================] - 7s 307ms/step - loss: 4.9100e-04\n",
      "Epoch 99/100\n",
      "23/23 [==============================] - 7s 294ms/step - loss: 4.2471e-04\n",
      "Epoch 100/100\n",
      "23/23 [==============================] - 7s 301ms/step - loss: 5.1020e-04\n"
     ]
    },
    {
     "data": {
      "text/plain": [
       "<keras.callbacks.History at 0x222ca895820>"
      ]
     },
     "execution_count": 12,
     "metadata": {},
     "output_type": "execute_result"
    }
   ],
   "source": [
    "model_LSTM = Sequential()\n",
    "\n",
    "model_LSTM.add(LSTM(units = 50, return_sequences = True, input_shape = (X_train.shape[1], 1)))\n",
    "model_LSTM.add(Dropout(0.2))\n",
    "\n",
    "model_LSTM.add(LSTM(units = 50, return_sequences = True))\n",
    "model_LSTM.add(Dropout(0.2))\n",
    "\n",
    "model_LSTM.add(LSTM(units = 50, return_sequences = True))\n",
    "model_LSTM.add(Dropout(0.2))\n",
    "\n",
    "model_LSTM.add(LSTM(units = 50))\n",
    "model_LSTM.add(Dropout(0.3))\n",
    "\n",
    "model_LSTM.add(Dense(units = 1))\n",
    "\n",
    "model_LSTM.compile(\n",
    "    optimizer = 'adam', \n",
    "    loss = 'mean_squared_error')\n",
    "\n",
    "model_LSTM.fit(X_train, y_train, epochs = 100, batch_size = 32)\n"
   ]
  },
  {
   "cell_type": "code",
   "execution_count": 13,
   "metadata": {},
   "outputs": [
    {
     "name": "stdout",
     "output_type": "stream",
     "text": [
      "13/13 [==============================] - 4s 112ms/step\n"
     ]
    },
    {
     "name": "stderr",
     "output_type": "stream",
     "text": [
      "C:\\Users\\naouf\\AppData\\Local\\Temp/ipykernel_14860/529105857.py:5: SettingWithCopyWarning: \n",
      "A value is trying to be set on a copy of a slice from a DataFrame.\n",
      "Try using .loc[row_indexer,col_indexer] = value instead\n",
      "\n",
      "See the caveats in the documentation: https://pandas.pydata.org/pandas-docs/stable/user_guide/indexing.html#returning-a-view-versus-a-copy\n",
      "  valid['Predictions'] = pred1\n"
     ]
    }
   ],
   "source": [
    "pred1 = model_LSTM.predict(X_test)\n",
    "pred1 = sc.inverse_transform(pred1)\n",
    "train = data[:split_val]\n",
    "valid = data[split_val:]\n",
    "valid['Predictions'] = pred1"
   ]
  },
  {
   "cell_type": "code",
   "execution_count": 24,
   "metadata": {},
   "outputs": [
    {
     "name": "stdout",
     "output_type": "stream",
     "text": [
      "0.9798358886445626\n",
      "56.193963336709096\n",
      "4656.115149497321\n"
     ]
    }
   ],
   "source": [
    "print(r2_score(y_test, pred1))\n",
    "print(mean_absolute_error(y_test, pred1))\n",
    "print(mean_squared_error(y_test, pred1))\n"
   ]
  },
  {
   "cell_type": "markdown",
   "metadata": {},
   "source": [
    "## Modèle 2"
   ]
  },
  {
   "cell_type": "code",
   "execution_count": 15,
   "metadata": {},
   "outputs": [
    {
     "name": "stdout",
     "output_type": "stream",
     "text": [
      "Epoch 1/100\n",
      "23/23 [==============================] - 38s 716ms/step - loss: 0.0127\n",
      "Epoch 2/100\n",
      "23/23 [==============================] - 17s 750ms/step - loss: 0.0044\n",
      "Epoch 3/100\n",
      "23/23 [==============================] - 17s 750ms/step - loss: 0.0030\n",
      "Epoch 4/100\n",
      "23/23 [==============================] - 16s 706ms/step - loss: 0.0025\n",
      "Epoch 5/100\n",
      "23/23 [==============================] - 17s 731ms/step - loss: 0.0021\n",
      "Epoch 6/100\n",
      "23/23 [==============================] - 17s 755ms/step - loss: 0.0023\n",
      "Epoch 7/100\n",
      "23/23 [==============================] - 18s 758ms/step - loss: 0.0020\n",
      "Epoch 8/100\n",
      "23/23 [==============================] - 17s 753ms/step - loss: 0.0017\n",
      "Epoch 9/100\n",
      "23/23 [==============================] - 17s 734ms/step - loss: 0.0016\n",
      "Epoch 10/100\n",
      "23/23 [==============================] - 17s 746ms/step - loss: 0.0016\n",
      "Epoch 11/100\n",
      "23/23 [==============================] - 17s 743ms/step - loss: 0.0015\n",
      "Epoch 12/100\n",
      "23/23 [==============================] - 17s 742ms/step - loss: 0.0012\n",
      "Epoch 13/100\n",
      "23/23 [==============================] - 17s 749ms/step - loss: 0.0014\n",
      "Epoch 14/100\n",
      "23/23 [==============================] - 18s 795ms/step - loss: 0.0015\n",
      "Epoch 15/100\n",
      "23/23 [==============================] - 19s 814ms/step - loss: 0.0013\n",
      "Epoch 16/100\n",
      "23/23 [==============================] - 18s 781ms/step - loss: 0.0016\n",
      "Epoch 17/100\n",
      "23/23 [==============================] - 19s 803ms/step - loss: 0.0012\n",
      "Epoch 18/100\n",
      "23/23 [==============================] - 18s 784ms/step - loss: 0.0011\n",
      "Epoch 19/100\n",
      "23/23 [==============================] - 18s 781ms/step - loss: 0.0013\n",
      "Epoch 20/100\n",
      "23/23 [==============================] - 18s 799ms/step - loss: 0.0011\n",
      "Epoch 21/100\n",
      "23/23 [==============================] - 19s 812ms/step - loss: 0.0011\n",
      "Epoch 22/100\n",
      "23/23 [==============================] - 18s 784ms/step - loss: 0.0011\n",
      "Epoch 23/100\n",
      "23/23 [==============================] - 19s 808ms/step - loss: 9.5702e-04\n",
      "Epoch 24/100\n",
      "23/23 [==============================] - 18s 798ms/step - loss: 0.0010\n",
      "Epoch 25/100\n",
      "23/23 [==============================] - 18s 797ms/step - loss: 0.0011\n",
      "Epoch 26/100\n",
      "23/23 [==============================] - 18s 796ms/step - loss: 0.0010\n",
      "Epoch 27/100\n",
      "23/23 [==============================] - 18s 792ms/step - loss: 0.0011\n",
      "Epoch 28/100\n",
      "23/23 [==============================] - 18s 805ms/step - loss: 0.0010\n",
      "Epoch 29/100\n",
      "23/23 [==============================] - 18s 787ms/step - loss: 9.1829e-04\n",
      "Epoch 30/100\n",
      "23/23 [==============================] - 18s 792ms/step - loss: 0.0011\n",
      "Epoch 31/100\n",
      "23/23 [==============================] - 18s 786ms/step - loss: 0.0010\n",
      "Epoch 32/100\n",
      "23/23 [==============================] - 18s 794ms/step - loss: 9.2221e-04\n",
      "Epoch 33/100\n",
      "23/23 [==============================] - 18s 796ms/step - loss: 0.0010\n",
      "Epoch 34/100\n",
      "23/23 [==============================] - 19s 808ms/step - loss: 9.0372e-04\n",
      "Epoch 35/100\n",
      "23/23 [==============================] - 18s 797ms/step - loss: 8.9453e-04\n",
      "Epoch 36/100\n",
      "23/23 [==============================] - 19s 807ms/step - loss: 7.8182e-04\n",
      "Epoch 37/100\n",
      "23/23 [==============================] - 19s 816ms/step - loss: 8.6206e-04\n",
      "Epoch 38/100\n",
      "23/23 [==============================] - 19s 816ms/step - loss: 7.9653e-04\n",
      "Epoch 39/100\n",
      "23/23 [==============================] - 18s 786ms/step - loss: 7.1377e-04\n",
      "Epoch 40/100\n",
      "23/23 [==============================] - 18s 793ms/step - loss: 8.1576e-04\n",
      "Epoch 41/100\n",
      "23/23 [==============================] - 18s 784ms/step - loss: 8.3953e-04\n",
      "Epoch 42/100\n",
      "23/23 [==============================] - 19s 805ms/step - loss: 8.9043e-04\n",
      "Epoch 43/100\n",
      "23/23 [==============================] - 18s 794ms/step - loss: 8.4464e-04\n",
      "Epoch 44/100\n",
      "23/23 [==============================] - 18s 785ms/step - loss: 7.9885e-04\n",
      "Epoch 45/100\n",
      "23/23 [==============================] - 18s 794ms/step - loss: 0.0011\n",
      "Epoch 46/100\n",
      "23/23 [==============================] - 18s 798ms/step - loss: 7.3139e-04\n",
      "Epoch 47/100\n",
      "23/23 [==============================] - 18s 787ms/step - loss: 7.6554e-04\n",
      "Epoch 48/100\n",
      "23/23 [==============================] - 18s 781ms/step - loss: 7.4123e-04\n",
      "Epoch 49/100\n",
      "23/23 [==============================] - 18s 801ms/step - loss: 6.4806e-04\n",
      "Epoch 50/100\n",
      "23/23 [==============================] - 18s 786ms/step - loss: 6.4655e-04\n",
      "Epoch 51/100\n",
      "23/23 [==============================] - 18s 798ms/step - loss: 8.5299e-04\n",
      "Epoch 52/100\n",
      "23/23 [==============================] - 18s 788ms/step - loss: 6.2264e-04\n",
      "Epoch 53/100\n",
      "23/23 [==============================] - 18s 793ms/step - loss: 5.5503e-04\n",
      "Epoch 54/100\n",
      "23/23 [==============================] - 19s 826ms/step - loss: 6.9527e-04\n",
      "Epoch 55/100\n",
      "23/23 [==============================] - 18s 794ms/step - loss: 6.8676e-04\n",
      "Epoch 56/100\n",
      "23/23 [==============================] - 18s 792ms/step - loss: 6.8199e-04\n",
      "Epoch 57/100\n",
      "23/23 [==============================] - 18s 787ms/step - loss: 6.2069e-04\n",
      "Epoch 58/100\n",
      "23/23 [==============================] - 18s 790ms/step - loss: 5.8265e-04\n",
      "Epoch 59/100\n",
      "23/23 [==============================] - 18s 792ms/step - loss: 6.7017e-04\n",
      "Epoch 60/100\n",
      "23/23 [==============================] - 18s 793ms/step - loss: 6.2563e-04\n",
      "Epoch 61/100\n",
      "23/23 [==============================] - 18s 802ms/step - loss: 6.0741e-04\n",
      "Epoch 62/100\n",
      "23/23 [==============================] - 18s 791ms/step - loss: 5.7298e-04\n",
      "Epoch 63/100\n",
      "23/23 [==============================] - 19s 808ms/step - loss: 0.0012\n",
      "Epoch 64/100\n",
      "23/23 [==============================] - 18s 803ms/step - loss: 7.2265e-04\n",
      "Epoch 65/100\n",
      "23/23 [==============================] - 18s 800ms/step - loss: 5.3595e-04\n",
      "Epoch 66/100\n",
      "23/23 [==============================] - 18s 790ms/step - loss: 5.3129e-04\n",
      "Epoch 67/100\n",
      "23/23 [==============================] - 18s 797ms/step - loss: 5.5103e-04\n",
      "Epoch 68/100\n",
      "23/23 [==============================] - 19s 811ms/step - loss: 6.3796e-04\n",
      "Epoch 69/100\n",
      "23/23 [==============================] - 19s 820ms/step - loss: 7.7460e-04\n",
      "Epoch 70/100\n",
      "23/23 [==============================] - 19s 828ms/step - loss: 5.6314e-04\n",
      "Epoch 71/100\n",
      "23/23 [==============================] - 19s 809ms/step - loss: 5.1332e-04\n",
      "Epoch 72/100\n",
      "23/23 [==============================] - 19s 806ms/step - loss: 5.9568e-04\n",
      "Epoch 73/100\n",
      "23/23 [==============================] - 19s 814ms/step - loss: 4.8470e-04\n",
      "Epoch 74/100\n",
      "23/23 [==============================] - 19s 805ms/step - loss: 5.4361e-04\n",
      "Epoch 75/100\n",
      "23/23 [==============================] - 19s 837ms/step - loss: 4.8552e-04\n",
      "Epoch 76/100\n",
      "23/23 [==============================] - 19s 822ms/step - loss: 4.9609e-04\n",
      "Epoch 77/100\n",
      "23/23 [==============================] - 19s 812ms/step - loss: 4.7205e-04\n",
      "Epoch 78/100\n",
      "23/23 [==============================] - 18s 799ms/step - loss: 6.5069e-04\n",
      "Epoch 79/100\n",
      "23/23 [==============================] - 19s 809ms/step - loss: 4.8371e-04\n",
      "Epoch 80/100\n",
      "23/23 [==============================] - 19s 803ms/step - loss: 4.5969e-04\n",
      "Epoch 81/100\n",
      "23/23 [==============================] - 18s 801ms/step - loss: 4.7193e-04\n",
      "Epoch 82/100\n",
      "23/23 [==============================] - 19s 805ms/step - loss: 4.9432e-04\n",
      "Epoch 83/100\n",
      "23/23 [==============================] - 18s 791ms/step - loss: 4.5975e-04\n",
      "Epoch 84/100\n",
      "23/23 [==============================] - 19s 811ms/step - loss: 4.8005e-04\n",
      "Epoch 85/100\n",
      "23/23 [==============================] - 18s 789ms/step - loss: 4.7353e-04\n",
      "Epoch 86/100\n",
      "23/23 [==============================] - 19s 829ms/step - loss: 5.0908e-04\n",
      "Epoch 87/100\n",
      "23/23 [==============================] - 18s 802ms/step - loss: 5.5945e-04\n",
      "Epoch 88/100\n",
      "23/23 [==============================] - 18s 796ms/step - loss: 5.2028e-04\n",
      "Epoch 89/100\n",
      "23/23 [==============================] - 18s 782ms/step - loss: 4.2912e-04\n",
      "Epoch 90/100\n",
      "23/23 [==============================] - 18s 796ms/step - loss: 4.7434e-04\n",
      "Epoch 91/100\n",
      "23/23 [==============================] - 19s 842ms/step - loss: 4.7074e-04\n",
      "Epoch 92/100\n",
      "23/23 [==============================] - 19s 808ms/step - loss: 4.7960e-04\n",
      "Epoch 93/100\n",
      "23/23 [==============================] - 18s 799ms/step - loss: 4.5099e-04\n",
      "Epoch 94/100\n",
      "23/23 [==============================] - 19s 823ms/step - loss: 4.3093e-04\n",
      "Epoch 95/100\n"
     ]
    },
    {
     "name": "stdout",
     "output_type": "stream",
     "text": [
      "23/23 [==============================] - 18s 795ms/step - loss: 4.2087e-04\n",
      "Epoch 96/100\n",
      "23/23 [==============================] - 18s 801ms/step - loss: 5.3164e-04\n",
      "Epoch 97/100\n",
      "23/23 [==============================] - 19s 809ms/step - loss: 5.1351e-04\n",
      "Epoch 98/100\n",
      "23/23 [==============================] - 18s 801ms/step - loss: 4.8732e-04\n",
      "Epoch 99/100\n",
      "23/23 [==============================] - 19s 814ms/step - loss: 4.9665e-04\n",
      "Epoch 100/100\n",
      "23/23 [==============================] - 19s 823ms/step - loss: 5.9054e-04\n"
     ]
    },
    {
     "data": {
      "text/plain": [
       "<keras.callbacks.History at 0x222d4c705e0>"
      ]
     },
     "execution_count": 15,
     "metadata": {},
     "output_type": "execute_result"
    }
   ],
   "source": [
    "model_GRU = Sequential()\n",
    "\n",
    "model_GRU.add(LSTM(units = 200, return_sequences = True, input_shape = (X_train.shape[1], 1)))\n",
    "model_GRU.add(Dropout(0.2))\n",
    "\n",
    "model_GRU.add(GRU(units = 50, return_sequences = True))\n",
    "model_GRU.add(Dropout(0.2))\n",
    "\n",
    "model_GRU.add(GRU(units = 50, return_sequences = True))\n",
    "model_GRU.add(Dropout(0.2))\n",
    "\n",
    "model_GRU.add(GRU(units = 50, return_sequences=True))\n",
    "model_GRU.add(Dropout(0.2))\n",
    "\n",
    "model_GRU.add(GRU(units = 50, return_sequences=True))\n",
    "model_GRU.add(Dropout(0.2))\n",
    "\n",
    "model_GRU.add(GRU(units = 50, return_sequences=True))\n",
    "model_GRU.add(Dropout(0.2))\n",
    "\n",
    "model_GRU.add(GRU(units = 50))\n",
    "model_GRU.add(Dropout(0.2))\n",
    "\n",
    "model_GRU.add(Dense(units = 1))\n",
    "\n",
    "model_GRU.compile(\n",
    "    optimizer = 'adam', \n",
    "    loss = 'mean_squared_error')\n",
    "\n",
    "model_GRU.fit(X_train, y_train, epochs = 100, batch_size = 32)\n"
   ]
  },
  {
   "cell_type": "code",
   "execution_count": 16,
   "metadata": {},
   "outputs": [
    {
     "name": "stdout",
     "output_type": "stream",
     "text": [
      "13/13 [==============================] - 7s 258ms/step\n"
     ]
    },
    {
     "name": "stderr",
     "output_type": "stream",
     "text": [
      "C:\\Users\\naouf\\AppData\\Local\\Temp/ipykernel_14860/3630788853.py:5: SettingWithCopyWarning: \n",
      "A value is trying to be set on a copy of a slice from a DataFrame.\n",
      "Try using .loc[row_indexer,col_indexer] = value instead\n",
      "\n",
      "See the caveats in the documentation: https://pandas.pydata.org/pandas-docs/stable/user_guide/indexing.html#returning-a-view-versus-a-copy\n",
      "  valid['Predictions'] = pred2\n"
     ]
    },
    {
     "data": {
      "text/plain": [
       "0.9086516232722914"
      ]
     },
     "execution_count": 16,
     "metadata": {},
     "output_type": "execute_result"
    }
   ],
   "source": [
    "pred2 = model_GRU.predict(X_test)\n",
    "pred2 = sc.inverse_transform(pred2)\n",
    "train = data[:split_val]\n",
    "valid = data[split_val:]\n",
    "valid['Predictions'] = pred2\n",
    "score = r2_score(y_test, pred2)\n",
    "score"
   ]
  },
  {
   "cell_type": "code",
   "execution_count": 25,
   "metadata": {},
   "outputs": [
    {
     "name": "stdout",
     "output_type": "stream",
     "text": [
      "0.9086516232722914\n",
      "114.99572934751157\n",
      "21093.34516490752\n"
     ]
    }
   ],
   "source": [
    "print(r2_score(y_test, pred2))\n",
    "print(mean_absolute_error(y_test, pred2))\n",
    "print(mean_squared_error(y_test, pred2))"
   ]
  },
  {
   "cell_type": "markdown",
   "metadata": {},
   "source": [
    "## Modèle 3"
   ]
  },
  {
   "cell_type": "code",
   "execution_count": 17,
   "metadata": {},
   "outputs": [
    {
     "name": "stdout",
     "output_type": "stream",
     "text": [
      "Epoch 1/100\n",
      "23/23 [==============================] - 6s 92ms/step - loss: 0.0172 - accuracy: 0.0000e+00 - val_loss: 4742708.5000 - val_accuracy: 0.0000e+00\n",
      "Epoch 2/100\n",
      "23/23 [==============================] - 1s 54ms/step - loss: 0.0042 - accuracy: 0.0000e+00 - val_loss: 4742335.0000 - val_accuracy: 0.0000e+00\n",
      "Epoch 3/100\n",
      "23/23 [==============================] - 1s 55ms/step - loss: 0.0029 - accuracy: 0.0000e+00 - val_loss: 4742599.0000 - val_accuracy: 0.0000e+00\n",
      "Epoch 4/100\n",
      "23/23 [==============================] - 1s 50ms/step - loss: 0.0021 - accuracy: 0.0000e+00 - val_loss: 4742673.0000 - val_accuracy: 0.0000e+00\n",
      "Epoch 5/100\n",
      "23/23 [==============================] - 1s 58ms/step - loss: 0.0020 - accuracy: 0.0000e+00 - val_loss: 4742569.0000 - val_accuracy: 0.0000e+00\n",
      "Epoch 6/100\n",
      "23/23 [==============================] - 1s 56ms/step - loss: 0.0018 - accuracy: 0.0000e+00 - val_loss: 4742490.0000 - val_accuracy: 0.0000e+00\n",
      "Epoch 7/100\n",
      "23/23 [==============================] - 1s 57ms/step - loss: 0.0016 - accuracy: 0.0000e+00 - val_loss: 4742554.0000 - val_accuracy: 0.0000e+00\n",
      "Epoch 8/100\n",
      "23/23 [==============================] - 1s 59ms/step - loss: 0.0016 - accuracy: 0.0000e+00 - val_loss: 4742581.5000 - val_accuracy: 0.0000e+00\n",
      "Epoch 9/100\n",
      "23/23 [==============================] - 1s 51ms/step - loss: 0.0014 - accuracy: 0.0000e+00 - val_loss: 4742611.5000 - val_accuracy: 0.0000e+00\n",
      "Epoch 10/100\n",
      "23/23 [==============================] - 1s 62ms/step - loss: 0.0014 - accuracy: 0.0000e+00 - val_loss: 4742803.0000 - val_accuracy: 0.0000e+00\n",
      "Epoch 11/100\n",
      "23/23 [==============================] - 1s 56ms/step - loss: 0.0014 - accuracy: 0.0000e+00 - val_loss: 4742702.5000 - val_accuracy: 0.0000e+00\n",
      "Epoch 12/100\n",
      "23/23 [==============================] - 1s 56ms/step - loss: 0.0012 - accuracy: 0.0000e+00 - val_loss: 4742577.0000 - val_accuracy: 0.0000e+00\n",
      "Epoch 13/100\n",
      "23/23 [==============================] - 1s 43ms/step - loss: 0.0011 - accuracy: 0.0000e+00 - val_loss: 4742444.0000 - val_accuracy: 0.0000e+00\n",
      "Epoch 14/100\n",
      "23/23 [==============================] - 1s 47ms/step - loss: 0.0012 - accuracy: 0.0000e+00 - val_loss: 4742571.0000 - val_accuracy: 0.0000e+00\n",
      "Epoch 15/100\n",
      "23/23 [==============================] - 1s 57ms/step - loss: 0.0012 - accuracy: 0.0000e+00 - val_loss: 4742235.5000 - val_accuracy: 0.0000e+00\n",
      "Epoch 16/100\n",
      "23/23 [==============================] - 1s 60ms/step - loss: 0.0012 - accuracy: 0.0000e+00 - val_loss: 4742448.0000 - val_accuracy: 0.0000e+00\n",
      "Epoch 17/100\n",
      "23/23 [==============================] - 1s 55ms/step - loss: 9.5479e-04 - accuracy: 0.0000e+00 - val_loss: 4742385.0000 - val_accuracy: 0.0000e+00\n",
      "Epoch 18/100\n",
      "23/23 [==============================] - 1s 52ms/step - loss: 0.0010 - accuracy: 0.0000e+00 - val_loss: 4742421.5000 - val_accuracy: 0.0000e+00\n",
      "Epoch 19/100\n",
      "23/23 [==============================] - 1s 55ms/step - loss: 9.1056e-04 - accuracy: 0.0000e+00 - val_loss: 4742468.0000 - val_accuracy: 0.0000e+00\n",
      "Epoch 20/100\n",
      "23/23 [==============================] - 1s 47ms/step - loss: 0.0012 - accuracy: 0.0000e+00 - val_loss: 4742464.5000 - val_accuracy: 0.0000e+00\n",
      "Epoch 21/100\n",
      "23/23 [==============================] - 1s 59ms/step - loss: 0.0012 - accuracy: 0.0000e+00 - val_loss: 4742511.5000 - val_accuracy: 0.0000e+00\n",
      "Epoch 22/100\n",
      "23/23 [==============================] - 1s 55ms/step - loss: 8.7111e-04 - accuracy: 0.0000e+00 - val_loss: 4742374.0000 - val_accuracy: 0.0000e+00\n",
      "Epoch 23/100\n",
      "23/23 [==============================] - 1s 52ms/step - loss: 0.0010 - accuracy: 0.0000e+00 - val_loss: 4742455.5000 - val_accuracy: 0.0000e+00\n",
      "Epoch 24/100\n",
      "23/23 [==============================] - 1s 58ms/step - loss: 8.7244e-04 - accuracy: 0.0000e+00 - val_loss: 4742335.5000 - val_accuracy: 0.0000e+00\n",
      "Epoch 25/100\n",
      "23/23 [==============================] - 1s 52ms/step - loss: 7.9546e-04 - accuracy: 0.0000e+00 - val_loss: 4742495.0000 - val_accuracy: 0.0000e+00\n",
      "Epoch 26/100\n",
      "23/23 [==============================] - 1s 42ms/step - loss: 8.2006e-04 - accuracy: 0.0000e+00 - val_loss: 4742411.5000 - val_accuracy: 0.0000e+00\n",
      "Epoch 27/100\n",
      "23/23 [==============================] - 1s 54ms/step - loss: 7.7587e-04 - accuracy: 0.0000e+00 - val_loss: 4742424.0000 - val_accuracy: 0.0000e+00\n",
      "Epoch 28/100\n",
      "23/23 [==============================] - 1s 62ms/step - loss: 9.9787e-04 - accuracy: 0.0000e+00 - val_loss: 4742487.0000 - val_accuracy: 0.0000e+00\n",
      "Epoch 29/100\n",
      "23/23 [==============================] - 1s 63ms/step - loss: 7.6358e-04 - accuracy: 0.0000e+00 - val_loss: 4742271.5000 - val_accuracy: 0.0000e+00\n",
      "Epoch 30/100\n",
      "23/23 [==============================] - 1s 57ms/step - loss: 8.1824e-04 - accuracy: 0.0000e+00 - val_loss: 4742539.5000 - val_accuracy: 0.0000e+00\n",
      "Epoch 31/100\n",
      "23/23 [==============================] - 1s 60ms/step - loss: 8.1673e-04 - accuracy: 0.0000e+00 - val_loss: 4742268.0000 - val_accuracy: 0.0000e+00\n",
      "Epoch 32/100\n",
      "23/23 [==============================] - 1s 57ms/step - loss: 8.3153e-04 - accuracy: 0.0000e+00 - val_loss: 4742488.0000 - val_accuracy: 0.0000e+00\n",
      "Epoch 33/100\n",
      "23/23 [==============================] - 1s 60ms/step - loss: 8.3866e-04 - accuracy: 0.0000e+00 - val_loss: 4742478.5000 - val_accuracy: 0.0000e+00\n",
      "Epoch 34/100\n",
      "23/23 [==============================] - 1s 56ms/step - loss: 9.3888e-04 - accuracy: 0.0000e+00 - val_loss: 4742375.5000 - val_accuracy: 0.0000e+00\n",
      "Epoch 35/100\n",
      "23/23 [==============================] - 1s 52ms/step - loss: 6.9344e-04 - accuracy: 0.0000e+00 - val_loss: 4742383.5000 - val_accuracy: 0.0000e+00\n",
      "Epoch 36/100\n",
      "23/23 [==============================] - 1s 56ms/step - loss: 6.8174e-04 - accuracy: 0.0000e+00 - val_loss: 4742462.0000 - val_accuracy: 0.0000e+00\n",
      "Epoch 37/100\n",
      "23/23 [==============================] - 1s 55ms/step - loss: 6.8672e-04 - accuracy: 0.0000e+00 - val_loss: 4742408.0000 - val_accuracy: 0.0000e+00\n",
      "Epoch 38/100\n",
      "23/23 [==============================] - 1s 53ms/step - loss: 6.5578e-04 - accuracy: 0.0000e+00 - val_loss: 4742460.5000 - val_accuracy: 0.0000e+00\n",
      "Epoch 39/100\n",
      "23/23 [==============================] - 1s 63ms/step - loss: 7.5527e-04 - accuracy: 0.0000e+00 - val_loss: 4742397.0000 - val_accuracy: 0.0000e+00\n",
      "Epoch 40/100\n",
      "23/23 [==============================] - 1s 59ms/step - loss: 6.1689e-04 - accuracy: 0.0000e+00 - val_loss: 4742419.5000 - val_accuracy: 0.0000e+00\n",
      "Epoch 41/100\n",
      "23/23 [==============================] - 1s 60ms/step - loss: 6.4451e-04 - accuracy: 0.0000e+00 - val_loss: 4742339.0000 - val_accuracy: 0.0000e+00\n",
      "Epoch 42/100\n",
      "23/23 [==============================] - 1s 58ms/step - loss: 6.4368e-04 - accuracy: 0.0000e+00 - val_loss: 4742319.5000 - val_accuracy: 0.0000e+00\n",
      "Epoch 43/100\n",
      "23/23 [==============================] - 1s 52ms/step - loss: 7.1124e-04 - accuracy: 0.0000e+00 - val_loss: 4742364.5000 - val_accuracy: 0.0000e+00\n",
      "Epoch 44/100\n",
      "23/23 [==============================] - 1s 56ms/step - loss: 6.5645e-04 - accuracy: 0.0000e+00 - val_loss: 4742307.0000 - val_accuracy: 0.0000e+00\n",
      "Epoch 45/100\n",
      "23/23 [==============================] - 1s 57ms/step - loss: 6.4250e-04 - accuracy: 0.0000e+00 - val_loss: 4742235.5000 - val_accuracy: 0.0000e+00\n",
      "Epoch 46/100\n",
      "23/23 [==============================] - 1s 55ms/step - loss: 6.6917e-04 - accuracy: 0.0000e+00 - val_loss: 4742338.5000 - val_accuracy: 0.0000e+00\n",
      "Epoch 47/100\n",
      "23/23 [==============================] - 1s 57ms/step - loss: 5.8996e-04 - accuracy: 0.0000e+00 - val_loss: 4742393.0000 - val_accuracy: 0.0000e+00\n",
      "Epoch 48/100\n",
      "23/23 [==============================] - 1s 55ms/step - loss: 5.4592e-04 - accuracy: 0.0000e+00 - val_loss: 4742418.5000 - val_accuracy: 0.0000e+00\n",
      "Epoch 49/100\n",
      "23/23 [==============================] - 1s 54ms/step - loss: 6.6996e-04 - accuracy: 0.0000e+00 - val_loss: 4742457.5000 - val_accuracy: 0.0000e+00\n",
      "Epoch 50/100\n",
      "23/23 [==============================] - 1s 50ms/step - loss: 6.0426e-04 - accuracy: 0.0000e+00 - val_loss: 4742404.0000 - val_accuracy: 0.0000e+00\n",
      "Epoch 51/100\n",
      "23/23 [==============================] - 1s 62ms/step - loss: 5.5762e-04 - accuracy: 0.0000e+00 - val_loss: 4742311.0000 - val_accuracy: 0.0000e+00\n",
      "Epoch 52/100\n"
     ]
    },
    {
     "name": "stdout",
     "output_type": "stream",
     "text": [
      "23/23 [==============================] - 1s 64ms/step - loss: 5.4324e-04 - accuracy: 0.0000e+00 - val_loss: 4742339.5000 - val_accuracy: 0.0000e+00\n",
      "Epoch 53/100\n",
      "23/23 [==============================] - 1s 60ms/step - loss: 5.6774e-04 - accuracy: 0.0000e+00 - val_loss: 4742406.5000 - val_accuracy: 0.0000e+00\n",
      "Epoch 54/100\n",
      "23/23 [==============================] - 1s 58ms/step - loss: 5.7852e-04 - accuracy: 0.0000e+00 - val_loss: 4742453.5000 - val_accuracy: 0.0000e+00\n",
      "Epoch 55/100\n",
      "23/23 [==============================] - 1s 62ms/step - loss: 6.0337e-04 - accuracy: 0.0000e+00 - val_loss: 4742383.0000 - val_accuracy: 0.0000e+00\n",
      "Epoch 56/100\n",
      "23/23 [==============================] - 1s 62ms/step - loss: 5.3193e-04 - accuracy: 0.0000e+00 - val_loss: 4742343.5000 - val_accuracy: 0.0000e+00\n",
      "Epoch 57/100\n",
      "23/23 [==============================] - 1s 62ms/step - loss: 5.1608e-04 - accuracy: 0.0000e+00 - val_loss: 4742416.5000 - val_accuracy: 0.0000e+00\n",
      "Epoch 58/100\n",
      "23/23 [==============================] - 1s 51ms/step - loss: 5.0468e-04 - accuracy: 0.0000e+00 - val_loss: 4742346.0000 - val_accuracy: 0.0000e+00\n",
      "Epoch 59/100\n",
      "23/23 [==============================] - 1s 62ms/step - loss: 4.8624e-04 - accuracy: 0.0000e+00 - val_loss: 4742429.0000 - val_accuracy: 0.0000e+00\n",
      "Epoch 60/100\n",
      "23/23 [==============================] - 1s 60ms/step - loss: 5.3105e-04 - accuracy: 0.0000e+00 - val_loss: 4742545.5000 - val_accuracy: 0.0000e+00\n",
      "Epoch 61/100\n",
      "23/23 [==============================] - 1s 58ms/step - loss: 6.0041e-04 - accuracy: 0.0000e+00 - val_loss: 4742292.0000 - val_accuracy: 0.0000e+00\n",
      "Epoch 62/100\n",
      "23/23 [==============================] - 1s 46ms/step - loss: 4.6811e-04 - accuracy: 0.0000e+00 - val_loss: 4742407.5000 - val_accuracy: 0.0000e+00\n",
      "Epoch 63/100\n",
      "23/23 [==============================] - 1s 49ms/step - loss: 5.7022e-04 - accuracy: 0.0000e+00 - val_loss: 4742279.5000 - val_accuracy: 0.0000e+00\n",
      "Epoch 64/100\n",
      "23/23 [==============================] - 1s 63ms/step - loss: 4.7925e-04 - accuracy: 0.0000e+00 - val_loss: 4742335.0000 - val_accuracy: 0.0000e+00\n",
      "Epoch 65/100\n",
      "23/23 [==============================] - 1s 56ms/step - loss: 4.8700e-04 - accuracy: 0.0000e+00 - val_loss: 4742331.0000 - val_accuracy: 0.0000e+00\n",
      "Epoch 66/100\n",
      "23/23 [==============================] - 1s 58ms/step - loss: 4.5097e-04 - accuracy: 0.0000e+00 - val_loss: 4742376.0000 - val_accuracy: 0.0000e+00\n",
      "Epoch 67/100\n",
      "23/23 [==============================] - 1s 61ms/step - loss: 4.4315e-04 - accuracy: 0.0000e+00 - val_loss: 4742318.0000 - val_accuracy: 0.0000e+00\n",
      "Epoch 68/100\n",
      "23/23 [==============================] - 1s 59ms/step - loss: 5.3784e-04 - accuracy: 0.0000e+00 - val_loss: 4742385.5000 - val_accuracy: 0.0000e+00\n",
      "Epoch 69/100\n",
      "23/23 [==============================] - 1s 58ms/step - loss: 5.4160e-04 - accuracy: 0.0000e+00 - val_loss: 4742422.5000 - val_accuracy: 0.0000e+00\n",
      "Epoch 70/100\n",
      "23/23 [==============================] - 1s 58ms/step - loss: 4.4440e-04 - accuracy: 0.0000e+00 - val_loss: 4742327.5000 - val_accuracy: 0.0000e+00\n",
      "Epoch 71/100\n",
      "23/23 [==============================] - 1s 56ms/step - loss: 4.8000e-04 - accuracy: 0.0000e+00 - val_loss: 4742308.5000 - val_accuracy: 0.0000e+00\n",
      "Epoch 72/100\n",
      "23/23 [==============================] - 1s 59ms/step - loss: 4.1100e-04 - accuracy: 0.0000e+00 - val_loss: 4742366.0000 - val_accuracy: 0.0000e+00\n",
      "Epoch 73/100\n",
      "23/23 [==============================] - 1s 55ms/step - loss: 5.8082e-04 - accuracy: 0.0000e+00 - val_loss: 4742356.0000 - val_accuracy: 0.0000e+00\n",
      "Epoch 74/100\n",
      "23/23 [==============================] - 1s 51ms/step - loss: 4.5526e-04 - accuracy: 0.0000e+00 - val_loss: 4742344.0000 - val_accuracy: 0.0000e+00\n",
      "Epoch 75/100\n",
      "23/23 [==============================] - 1s 43ms/step - loss: 4.0897e-04 - accuracy: 0.0000e+00 - val_loss: 4742337.0000 - val_accuracy: 0.0000e+00\n",
      "Epoch 76/100\n",
      "23/23 [==============================] - 1s 62ms/step - loss: 4.3076e-04 - accuracy: 0.0000e+00 - val_loss: 4742376.5000 - val_accuracy: 0.0000e+00\n",
      "Epoch 77/100\n",
      "23/23 [==============================] - 1s 59ms/step - loss: 3.9021e-04 - accuracy: 0.0000e+00 - val_loss: 4742520.5000 - val_accuracy: 0.0000e+00\n",
      "Epoch 78/100\n",
      "23/23 [==============================] - 1s 54ms/step - loss: 5.0418e-04 - accuracy: 0.0000e+00 - val_loss: 4742293.0000 - val_accuracy: 0.0000e+00\n",
      "Epoch 79/100\n",
      "23/23 [==============================] - 1s 56ms/step - loss: 3.7793e-04 - accuracy: 0.0000e+00 - val_loss: 4742386.5000 - val_accuracy: 0.0000e+00\n",
      "Epoch 80/100\n",
      "23/23 [==============================] - 1s 60ms/step - loss: 4.3533e-04 - accuracy: 0.0000e+00 - val_loss: 4742248.0000 - val_accuracy: 0.0000e+00\n",
      "Epoch 81/100\n",
      "23/23 [==============================] - 1s 55ms/step - loss: 4.7890e-04 - accuracy: 0.0000e+00 - val_loss: 4742370.5000 - val_accuracy: 0.0000e+00\n",
      "Epoch 82/100\n",
      "23/23 [==============================] - 1s 58ms/step - loss: 5.4572e-04 - accuracy: 0.0000e+00 - val_loss: 4742284.5000 - val_accuracy: 0.0000e+00\n",
      "Epoch 83/100\n",
      "23/23 [==============================] - 1s 55ms/step - loss: 3.7342e-04 - accuracy: 0.0000e+00 - val_loss: 4742241.5000 - val_accuracy: 0.0000e+00\n",
      "Epoch 84/100\n",
      "23/23 [==============================] - 1s 55ms/step - loss: 3.5881e-04 - accuracy: 0.0000e+00 - val_loss: 4742336.0000 - val_accuracy: 0.0000e+00\n",
      "Epoch 85/100\n",
      "23/23 [==============================] - 1s 60ms/step - loss: 4.1712e-04 - accuracy: 0.0000e+00 - val_loss: 4742468.5000 - val_accuracy: 0.0000e+00\n",
      "Epoch 86/100\n",
      "23/23 [==============================] - 1s 62ms/step - loss: 4.6769e-04 - accuracy: 0.0000e+00 - val_loss: 4742234.5000 - val_accuracy: 0.0000e+00\n",
      "Epoch 87/100\n",
      "23/23 [==============================] - 1s 37ms/step - loss: 4.6023e-04 - accuracy: 0.0000e+00 - val_loss: 4742363.5000 - val_accuracy: 0.0000e+00\n",
      "Epoch 88/100\n",
      "23/23 [==============================] - 1s 51ms/step - loss: 3.7741e-04 - accuracy: 0.0000e+00 - val_loss: 4742314.0000 - val_accuracy: 0.0000e+00\n",
      "Epoch 89/100\n",
      "23/23 [==============================] - 1s 56ms/step - loss: 3.5822e-04 - accuracy: 0.0000e+00 - val_loss: 4742292.5000 - val_accuracy: 0.0000e+00\n",
      "Epoch 90/100\n",
      "23/23 [==============================] - 1s 60ms/step - loss: 4.1336e-04 - accuracy: 0.0000e+00 - val_loss: 4742260.5000 - val_accuracy: 0.0000e+00\n",
      "Epoch 91/100\n",
      "23/23 [==============================] - 1s 58ms/step - loss: 3.6523e-04 - accuracy: 0.0000e+00 - val_loss: 4742269.5000 - val_accuracy: 0.0000e+00\n",
      "Epoch 92/100\n",
      "23/23 [==============================] - 1s 63ms/step - loss: 3.5496e-04 - accuracy: 0.0000e+00 - val_loss: 4742307.5000 - val_accuracy: 0.0000e+00\n",
      "Epoch 93/100\n",
      "23/23 [==============================] - 1s 60ms/step - loss: 3.3327e-04 - accuracy: 0.0000e+00 - val_loss: 4742285.0000 - val_accuracy: 0.0000e+00\n",
      "Epoch 94/100\n",
      "23/23 [==============================] - 1s 60ms/step - loss: 3.9420e-04 - accuracy: 0.0000e+00 - val_loss: 4742413.5000 - val_accuracy: 0.0000e+00\n",
      "Epoch 95/100\n",
      "23/23 [==============================] - 1s 62ms/step - loss: 3.4364e-04 - accuracy: 0.0000e+00 - val_loss: 4742331.0000 - val_accuracy: 0.0000e+00\n",
      "Epoch 96/100\n",
      "23/23 [==============================] - 1s 61ms/step - loss: 2.9552e-04 - accuracy: 0.0000e+00 - val_loss: 4742292.0000 - val_accuracy: 0.0000e+00\n",
      "Epoch 97/100\n",
      "23/23 [==============================] - 1s 59ms/step - loss: 3.5190e-04 - accuracy: 0.0000e+00 - val_loss: 4742398.5000 - val_accuracy: 0.0000e+00\n",
      "Epoch 98/100\n",
      "23/23 [==============================] - 1s 56ms/step - loss: 3.7048e-04 - accuracy: 0.0000e+00 - val_loss: 4742309.5000 - val_accuracy: 0.0000e+00\n",
      "Epoch 99/100\n",
      "23/23 [==============================] - 1s 40ms/step - loss: 3.1410e-04 - accuracy: 0.0000e+00 - val_loss: 4742218.5000 - val_accuracy: 0.0000e+00\n",
      "Epoch 100/100\n",
      "23/23 [==============================] - 1s 53ms/step - loss: 3.2723e-04 - accuracy: 0.0000e+00 - val_loss: 4742217.5000 - val_accuracy: 0.0000e+00\n"
     ]
    },
    {
     "data": {
      "text/plain": [
       "<keras.callbacks.History at 0x222de959100>"
      ]
     },
     "execution_count": 17,
     "metadata": {},
     "output_type": "execute_result"
    }
   ],
   "source": [
    "from keras.models import Sequential\n",
    "from keras.layers import Conv1D, MaxPooling1D, Flatten, Dense\n",
    "\n",
    "\n",
    "input_shape = (X_train.shape[1], 1)\n",
    "num_classes = 2\n",
    "\n",
    "CNN = Sequential()\n",
    "CNN.add(Conv1D(filters=64, kernel_size=3, activation='relu', input_shape=input_shape))\n",
    "CNN.add(MaxPooling1D(pool_size=2))\n",
    "CNN.add(LSTM(units=50, return_sequences=True))\n",
    "CNN.add(Dropout(0.2))\n",
    "CNN.add(Flatten())\n",
    "CNN.add(Dense(1, activation='relu'))\n",
    "\n",
    "\n",
    "CNN.compile(optimizer='adam', loss='mean_squared_error', metrics=['accuracy'])\n",
    "CNN.fit(X_train, y_train, validation_data=(X_test, y_test), epochs=100, batch_size=32)"
   ]
  },
  {
   "cell_type": "code",
   "execution_count": 18,
   "metadata": {},
   "outputs": [
    {
     "name": "stdout",
     "output_type": "stream",
     "text": [
      "13/13 [==============================] - 1s 23ms/step\n"
     ]
    },
    {
     "name": "stderr",
     "output_type": "stream",
     "text": [
      "C:\\Users\\naouf\\AppData\\Local\\Temp/ipykernel_14860/3354226981.py:5: SettingWithCopyWarning: \n",
      "A value is trying to be set on a copy of a slice from a DataFrame.\n",
      "Try using .loc[row_indexer,col_indexer] = value instead\n",
      "\n",
      "See the caveats in the documentation: https://pandas.pydata.org/pandas-docs/stable/user_guide/indexing.html#returning-a-view-versus-a-copy\n",
      "  valid['Predictions'] = pred3\n"
     ]
    },
    {
     "data": {
      "text/plain": [
       "0.816724860393772"
      ]
     },
     "execution_count": 18,
     "metadata": {},
     "output_type": "execute_result"
    }
   ],
   "source": [
    "pred3 = CNN.predict(X_test)\n",
    "pred3 = sc.inverse_transform(pred3)\n",
    "train = data[:split_val]\n",
    "valid = data[split_val:]\n",
    "valid['Predictions'] = pred3\n",
    "score = r2_score(y_test, pred3)\n",
    "score"
   ]
  },
  {
   "cell_type": "code",
   "execution_count": 26,
   "metadata": {},
   "outputs": [
    {
     "name": "stdout",
     "output_type": "stream",
     "text": [
      "0.816724860393772\n",
      "167.07673822096837\n",
      "42320.246055211486\n"
     ]
    }
   ],
   "source": [
    "print(r2_score(y_test, pred3))\n",
    "print(mean_absolute_error(y_test, pred3))\n",
    "print(mean_squared_error(y_test, pred3))"
   ]
  },
  {
   "cell_type": "markdown",
   "metadata": {},
   "source": [
    "Question "
   ]
  },
  {
   "cell_type": "code",
   "execution_count": 19,
   "metadata": {},
   "outputs": [],
   "source": [
    "def returns(time_series):\n",
    "    returns = []\n",
    "    for i in range(1, len(time_series)):\n",
    "        returns.append((time_series[i] - time_series[i-1]) / time_series[i-1])\n",
    "\n",
    "    for i in range(len(returns)):\n",
    "        if returns[i] >= 0:\n",
    "            returns[i] = 1\n",
    "        else:\n",
    "            returns[i] = 0\n",
    "\n",
    "    return returns"
   ]
  },
  {
   "cell_type": "code",
   "execution_count": 27,
   "metadata": {},
   "outputs": [],
   "source": [
    "Y = returns(y_test)\n",
    "lstm = returns(pred1)\n",
    "gru = returns(pred2)\n",
    "cnn = returns(pred3)"
   ]
  },
  {
   "cell_type": "code",
   "execution_count": 22,
   "metadata": {},
   "outputs": [],
   "source": [
    "def hamming_distance(list1, list2):\n",
    "    distance = 0\n",
    "    for i in range(len(list1)):\n",
    "        if list1[i] != list2[i]:\n",
    "            distance += 1\n",
    "    return distance"
   ]
  },
  {
   "cell_type": "code",
   "execution_count": 23,
   "metadata": {},
   "outputs": [
    {
     "name": "stdout",
     "output_type": "stream",
     "text": [
      "193\n",
      "200\n",
      "199\n"
     ]
    }
   ],
   "source": [
    "print(hamming_distance(Y, lstm))\n",
    "print(hamming_distance(Y, gru))\n",
    "print(hamming_distance(Y, cnn))"
   ]
  }
 ],
 "metadata": {
  "kernelspec": {
   "display_name": "Python 3 (ipykernel)",
   "language": "python",
   "name": "python3"
  },
  "language_info": {
   "codemirror_mode": {
    "name": "ipython",
    "version": 3
   },
   "file_extension": ".py",
   "mimetype": "text/x-python",
   "name": "python",
   "nbconvert_exporter": "python",
   "pygments_lexer": "ipython3",
   "version": "3.9.7"
  }
 },
 "nbformat": 4,
 "nbformat_minor": 4
}
